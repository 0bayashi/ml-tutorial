{
 "cells": [
  {
   "cell_type": "markdown",
   "metadata": {},
   "source": [
    "# Introduction to ML packages (part 1)\n",
    "\n",
    "This tutorial is designed to provide a bird's eye view of the ML packages landscape.\n",
    "The goal is not to give an in-depth explanation of all the features of each packages, but rather demonstrate the purpose of a few widely used ML packages. For more details, we refer the reader to the packages' documentation and other online tutorials."
   ]
  },
  {
   "cell_type": "markdown",
   "metadata": {},
   "source": [
    "## Jupyter\n",
    "\n",
    "Jupyter is not strictly speaking an ML package. It provides a browser front-end connected to an instance of IPython which allows REPL for quick testing, allows to create documents that intertwines code, output, images, and text. This is great for prototyping, demonstrations and tutorials, but terrible for actual coding. "
   ]
  },
  {
   "cell_type": "code",
   "execution_count": 1,
   "metadata": {
    "ExecuteTime": {
     "end_time": "2019-02-19T20:53:08.888834Z",
     "start_time": "2019-02-19T20:53:08.873241Z"
    }
   },
   "outputs": [
    {
     "data": {
      "text/plain": [
       "42"
      ]
     },
     "execution_count": 1,
     "metadata": {},
     "output_type": "execute_result"
    }
   ],
   "source": [
    "6*7"
   ]
  },
  {
   "cell_type": "code",
   "execution_count": 2,
   "metadata": {
    "ExecuteTime": {
     "end_time": "2019-02-19T20:53:08.894786Z",
     "start_time": "2019-02-19T20:53:08.891476Z"
    }
   },
   "outputs": [],
   "source": [
    "def tokenize(text):\n",
    "    return text.split(\" \")"
   ]
  },
  {
   "cell_type": "code",
   "execution_count": 3,
   "metadata": {
    "ExecuteTime": {
     "end_time": "2019-02-19T20:53:08.901982Z",
     "start_time": "2019-02-19T20:53:08.897281Z"
    },
    "scrolled": true
   },
   "outputs": [
    {
     "name": "stdout",
     "output_type": "stream",
     "text": [
      "['In', 'a', 'shocking', 'finding,', 'scientist', 'discovered', 'a', 'herd', 'of', 'unicorns', 'living', 'in', 'a', 'remote,', 'previously', 'unexplored', 'valley']\n"
     ]
    }
   ],
   "source": [
    "text = \"In a shocking finding, scientist discovered a herd of unicorns living in a remote, previously unexplored valley\"\n",
    "print(tokenize(text))"
   ]
  },
  {
   "cell_type": "markdown",
   "metadata": {},
   "source": [
    "## Numpy"
   ]
  },
  {
   "cell_type": "code",
   "execution_count": 4,
   "metadata": {
    "ExecuteTime": {
     "end_time": "2019-02-19T20:53:09.051210Z",
     "start_time": "2019-02-19T20:53:08.904559Z"
    }
   },
   "outputs": [],
   "source": [
    "import numpy as np"
   ]
  },
  {
   "cell_type": "markdown",
   "metadata": {},
   "source": [
    "Numpy is desiged to handle large multidimensional arrays and enable efficient computations with them. In the back, it runs pre-compiled C code which is much faster than, say, a Python `for` loop"
   ]
  },
  {
   "cell_type": "markdown",
   "metadata": {
    "ExecuteTime": {
     "end_time": "2019-02-19T16:57:10.540510Z",
     "start_time": "2019-02-19T16:57:10.496709Z"
    }
   },
   "source": [
    "In the Numpy tutorial, we have covered the basics of Numpy, numpy arrays, element-wise operations, matrices operations and generating random matrices. \n",
    "In this section, we'll cover indexing, slicing and broadcasting, which are useful concepts that will be reused in `Pandas` and `PyTorch`.\n"
   ]
  },
  {
   "cell_type": "markdown",
   "metadata": {},
   "source": [
    "### Indexing and slicing"
   ]
  },
  {
   "cell_type": "markdown",
   "metadata": {},
   "source": [
    "Numpy arrays can be indexed and sliced like regular python arrays"
   ]
  },
  {
   "cell_type": "code",
   "execution_count": 5,
   "metadata": {
    "ExecuteTime": {
     "end_time": "2019-02-19T20:53:09.056011Z",
     "start_time": "2019-02-19T20:53:09.052752Z"
    }
   },
   "outputs": [],
   "source": [
    "a_py = [1, 2, 3, 4, 5, 6, 7, 8, 9]\n",
    "a_np = np.array(a_py)"
   ]
  },
  {
   "cell_type": "code",
   "execution_count": 6,
   "metadata": {
    "ExecuteTime": {
     "end_time": "2019-02-19T20:53:09.062612Z",
     "start_time": "2019-02-19T20:53:09.057794Z"
    }
   },
   "outputs": [
    {
     "name": "stdout",
     "output_type": "stream",
     "text": [
      "[4, 6] [4 6]\n",
      "[3, 5, 7] [3 5 7]\n",
      "[9, 8, 7, 6, 5, 4, 3, 2, 1] [9 8 7 6 5 4 3 2 1]\n"
     ]
    }
   ],
   "source": [
    "print(a_py[3:7:2], a_np[3:7:2])\n",
    "print(a_py[2:-1:2], a_np[2:-1:2])\n",
    "print(a_py[::-1], a_np[::-1])"
   ]
  },
  {
   "cell_type": "markdown",
   "metadata": {},
   "source": [
    "But you can also use arrays to index other arrays"
   ]
  },
  {
   "cell_type": "code",
   "execution_count": 7,
   "metadata": {
    "ExecuteTime": {
     "end_time": "2019-02-19T20:53:09.070954Z",
     "start_time": "2019-02-19T20:53:09.065673Z"
    }
   },
   "outputs": [
    {
     "data": {
      "text/plain": [
       "array([8, 3])"
      ]
     },
     "execution_count": 7,
     "metadata": {},
     "output_type": "execute_result"
    }
   ],
   "source": [
    "idx = np.array([7,2])\n",
    "a_np[idx]"
   ]
  },
  {
   "cell_type": "code",
   "execution_count": 8,
   "metadata": {
    "ExecuteTime": {
     "end_time": "2019-02-19T20:53:09.076403Z",
     "start_time": "2019-02-19T20:53:09.072917Z"
    }
   },
   "outputs": [],
   "source": [
    "# a_py[idx]"
   ]
  },
  {
   "cell_type": "markdown",
   "metadata": {},
   "source": [
    "Which allows convenient querying, reindexing and even sorting"
   ]
  },
  {
   "cell_type": "code",
   "execution_count": 9,
   "metadata": {
    "ExecuteTime": {
     "end_time": "2019-02-19T20:53:09.083417Z",
     "start_time": "2019-02-19T20:53:09.078570Z"
    }
   },
   "outputs": [
    {
     "name": "stdout",
     "output_type": "stream",
     "text": [
      "[35 47 32 50 58 42 45 42 59 43]\n",
      "[169 178 195 203 184 166 191 164 190 207]\n"
     ]
    }
   ],
   "source": [
    "ages = np.random.randint(low=30, high=60, size=10)\n",
    "heights = np.random.randint(low=150, high=210, size=10)\n",
    "\n",
    "print(ages)\n",
    "print(heights)"
   ]
  },
  {
   "cell_type": "code",
   "execution_count": 10,
   "metadata": {
    "ExecuteTime": {
     "end_time": "2019-02-19T20:53:09.088565Z",
     "start_time": "2019-02-19T20:53:09.085652Z"
    }
   },
   "outputs": [
    {
     "name": "stdout",
     "output_type": "stream",
     "text": [
      "[ True  True  True False False  True  True  True False  True]\n"
     ]
    }
   ],
   "source": [
    "print(ages < 50)"
   ]
  },
  {
   "cell_type": "code",
   "execution_count": 11,
   "metadata": {
    "ExecuteTime": {
     "end_time": "2019-02-19T20:53:09.095654Z",
     "start_time": "2019-02-19T20:53:09.091036Z"
    }
   },
   "outputs": [
    {
     "name": "stdout",
     "output_type": "stream",
     "text": [
      "[169 178 195 166 191 164 207]\n",
      "[35 47 32 42 45 42 43]\n"
     ]
    }
   ],
   "source": [
    "print(heights[ages < 50])\n",
    "print(ages[ages < 50])"
   ]
  },
  {
   "cell_type": "code",
   "execution_count": 12,
   "metadata": {
    "ExecuteTime": {
     "end_time": "2019-02-19T20:53:09.102050Z",
     "start_time": "2019-02-19T20:53:09.097743Z"
    }
   },
   "outputs": [
    {
     "name": "stdout",
     "output_type": "stream",
     "text": [
      "[8 9 3 5 4 1 2 6 0 7]\n",
      "[59 43 50 42 58 47 32 45 35 42]\n",
      "[190 207 203 166 184 178 195 191 169 164]\n"
     ]
    }
   ],
   "source": [
    "shuffled_idx = np.random.permutation(10)\n",
    "print(shuffled_idx)\n",
    "print(ages[shuffled_idx])\n",
    "print(heights[shuffled_idx])"
   ]
  },
  {
   "cell_type": "code",
   "execution_count": 13,
   "metadata": {
    "ExecuteTime": {
     "end_time": "2019-02-19T20:53:09.109810Z",
     "start_time": "2019-02-19T20:53:09.105092Z"
    }
   },
   "outputs": [
    {
     "name": "stdout",
     "output_type": "stream",
     "text": [
      "[2 0 5 7 9 6 1 3 4 8]\n",
      "[32 35 42 42 43 45 47 50 58 59]\n",
      "[195 169 166 164 207 191 178 203 184 190]\n"
     ]
    }
   ],
   "source": [
    "sorted_idx = np.argsort(ages)\n",
    "print(sorted_idx)\n",
    "print(ages[sorted_idx])\n",
    "print(heights[sorted_idx])"
   ]
  },
  {
   "cell_type": "markdown",
   "metadata": {},
   "source": [
    "### Broadcasting"
   ]
  },
  {
   "cell_type": "markdown",
   "metadata": {},
   "source": [
    "When Numpy is asked to perform an operation between arrays of differents sizes, it \"broadcasts\" the smaller one to the bigger one."
   ]
  },
  {
   "cell_type": "code",
   "execution_count": 14,
   "metadata": {
    "ExecuteTime": {
     "end_time": "2019-02-19T20:53:09.117181Z",
     "start_time": "2019-02-19T20:53:09.112104Z"
    }
   },
   "outputs": [
    {
     "data": {
      "text/plain": [
       "array([ 8, 10, 12])"
      ]
     },
     "execution_count": 14,
     "metadata": {},
     "output_type": "execute_result"
    }
   ],
   "source": [
    "a = np.array([4, 5, 6])\n",
    "b = np.array([2, 2, 2])\n",
    "a * b"
   ]
  },
  {
   "cell_type": "code",
   "execution_count": 15,
   "metadata": {
    "ExecuteTime": {
     "end_time": "2019-02-19T20:53:09.124553Z",
     "start_time": "2019-02-19T20:53:09.118947Z"
    }
   },
   "outputs": [
    {
     "data": {
      "text/plain": [
       "array([ 8, 10, 12])"
      ]
     },
     "execution_count": 15,
     "metadata": {},
     "output_type": "execute_result"
    }
   ],
   "source": [
    "a = np.array([4, 5, 6])\n",
    "b = 2\n",
    "a * b"
   ]
  },
  {
   "cell_type": "markdown",
   "metadata": {
    "ExecuteTime": {
     "end_time": "2019-02-19T17:16:34.417254Z",
     "start_time": "2019-02-19T17:16:34.411064Z"
    }
   },
   "source": [
    "The two snippets of code above are equivalent but the second is easier to read and also more efficient."
   ]
  },
  {
   "cell_type": "code",
   "execution_count": 16,
   "metadata": {
    "ExecuteTime": {
     "end_time": "2019-02-19T20:53:09.130751Z",
     "start_time": "2019-02-19T20:53:09.127065Z"
    }
   },
   "outputs": [],
   "source": [
    "a = np.arange(10).reshape(1,10)\n",
    "b = np.arange(12).reshape(12,1)"
   ]
  },
  {
   "cell_type": "code",
   "execution_count": 17,
   "metadata": {
    "ExecuteTime": {
     "end_time": "2019-02-19T20:53:09.137686Z",
     "start_time": "2019-02-19T20:53:09.133077Z"
    }
   },
   "outputs": [
    {
     "name": "stdout",
     "output_type": "stream",
     "text": [
      "[[0 1 2 3 4 5 6 7 8 9]]\n",
      "[[ 0]\n",
      " [ 1]\n",
      " [ 2]\n",
      " [ 3]\n",
      " [ 4]\n",
      " [ 5]\n",
      " [ 6]\n",
      " [ 7]\n",
      " [ 8]\n",
      " [ 9]\n",
      " [10]\n",
      " [11]]\n"
     ]
    }
   ],
   "source": [
    "print(a)\n",
    "print(b)"
   ]
  },
  {
   "cell_type": "code",
   "execution_count": 18,
   "metadata": {
    "ExecuteTime": {
     "end_time": "2019-02-19T20:53:09.143857Z",
     "start_time": "2019-02-19T20:53:09.140069Z"
    }
   },
   "outputs": [
    {
     "name": "stdout",
     "output_type": "stream",
     "text": [
      "[[ 0  0  0  0  0  0  0  0  0  0]\n",
      " [ 0  1  2  3  4  5  6  7  8  9]\n",
      " [ 0  2  4  6  8 10 12 14 16 18]\n",
      " [ 0  3  6  9 12 15 18 21 24 27]\n",
      " [ 0  4  8 12 16 20 24 28 32 36]\n",
      " [ 0  5 10 15 20 25 30 35 40 45]\n",
      " [ 0  6 12 18 24 30 36 42 48 54]\n",
      " [ 0  7 14 21 28 35 42 49 56 63]\n",
      " [ 0  8 16 24 32 40 48 56 64 72]\n",
      " [ 0  9 18 27 36 45 54 63 72 81]\n",
      " [ 0 10 20 30 40 50 60 70 80 90]\n",
      " [ 0 11 22 33 44 55 66 77 88 99]]\n"
     ]
    }
   ],
   "source": [
    "print(a * b)"
   ]
  },
  {
   "cell_type": "markdown",
   "metadata": {},
   "source": [
    "## Matplotlib\n"
   ]
  },
  {
   "cell_type": "code",
   "execution_count": 19,
   "metadata": {
    "ExecuteTime": {
     "end_time": "2019-02-19T20:53:09.511424Z",
     "start_time": "2019-02-19T20:53:09.148412Z"
    }
   },
   "outputs": [],
   "source": [
    "%matplotlib inline\n",
    "import matplotlib.pyplot as plt"
   ]
  },
  {
   "cell_type": "code",
   "execution_count": 20,
   "metadata": {
    "ExecuteTime": {
     "end_time": "2019-02-19T20:53:09.516857Z",
     "start_time": "2019-02-19T20:53:09.513643Z"
    }
   },
   "outputs": [],
   "source": [
    "plt.rcParams['figure.figsize'] = [10, 7]"
   ]
  },
  {
   "cell_type": "markdown",
   "metadata": {},
   "source": [
    "Matplotlib is the go-to library to produce plots with Python. It comes with two APIs: a MATLAB-like that a lot of people have learned to use and love, and an object-oriented API that we recommend using."
   ]
  },
  {
   "cell_type": "code",
   "execution_count": 21,
   "metadata": {
    "ExecuteTime": {
     "end_time": "2019-02-19T20:53:09.958580Z",
     "start_time": "2019-02-19T20:53:09.519776Z"
    }
   },
   "outputs": [
    {
     "data": {
      "text/plain": [
       "[<matplotlib.lines.Line2D at 0x10691f860>]"
      ]
     },
     "execution_count": 21,
     "metadata": {},
     "output_type": "execute_result"
    },
    {
     "data": {
      "image/png": "[encoded data removed]",
      "text/plain": [
       "<Figure size 720x504 with 1 Axes>"
      ]
     },
     "metadata": {},
     "output_type": "display_data"
    }
   ],
   "source": [
    "x = np.linspace(-2*np.pi, 2*np.pi, 400)\n",
    "y = np.tanh(x)\n",
    "fig, ax = plt.subplots()\n",
    "ax.plot(x, y)"
   ]
  },
  {
   "cell_type": "markdown",
   "metadata": {},
   "source": [
    "You can plot multiple subplots in the same figure, or multiple functions in the same subplot"
   ]
  },
  {
   "cell_type": "code",
   "execution_count": 22,
   "metadata": {
    "ExecuteTime": {
     "end_time": "2019-02-19T20:53:10.241787Z",
     "start_time": "2019-02-19T20:53:09.961511Z"
    }
   },
   "outputs": [
    {
     "data": {
      "text/plain": [
       "[<matplotlib.lines.Line2D at 0x10bfe9588>]"
      ]
     },
     "execution_count": 22,
     "metadata": {},
     "output_type": "execute_result"
    },
    {
     "data": {
      "image/png": "[encoded data removed]",
      "text/plain": [
       "<Figure size 720x504 with 2 Axes>"
      ]
     },
     "metadata": {},
     "output_type": "display_data"
    }
   ],
   "source": [
    "x = np.linspace(0, 2*np.pi, 400)\n",
    "y1 = np.tanh(x)\n",
    "y2 = np.cos(x**2)\n",
    "fig, axes = plt.subplots(1, 2, sharey=True)\n",
    "axes[1].plot(x, y1)\n",
    "axes[1].plot(x, -y1)\n",
    "axes[0].plot(x, y2)"
   ]
  },
  {
   "cell_type": "markdown",
   "metadata": {},
   "source": [
    "Matplotlib also comes with a lot of different options to customize, the colors, the labels, the axes, etc.\n",
    "\n",
    "For instance, see this [introduction to matplotlib](https://nbviewer.jupyter.org/github/jrjohansson/scientific-python-lectures/blob/master/Lecture-4-Matplotlib.ipynb)"
   ]
  },
  {
   "cell_type": "markdown",
   "metadata": {},
   "source": [
    "## Scikit-learn "
   ]
  },
  {
   "cell_type": "markdown",
   "metadata": {},
   "source": [
    "Scikit-learn includes a number of features and utilities to kickstart your journey in Machine Learning. "
   ]
  },
  {
   "cell_type": "markdown",
   "metadata": {},
   "source": [
    "### A toy example"
   ]
  },
  {
   "cell_type": "code",
   "execution_count": 23,
   "metadata": {
    "ExecuteTime": {
     "end_time": "2019-02-19T20:53:10.985775Z",
     "start_time": "2019-02-19T20:53:10.244643Z"
    }
   },
   "outputs": [],
   "source": [
    "from sklearn.datasets import make_blobs"
   ]
  },
  {
   "cell_type": "code",
   "execution_count": 24,
   "metadata": {
    "ExecuteTime": {
     "end_time": "2019-02-19T20:53:10.995754Z",
     "start_time": "2019-02-19T20:53:10.988196Z"
    }
   },
   "outputs": [
    {
     "data": {
      "text/plain": [
       "(array([[0.4666179 , 3.86571303],\n",
       "        [2.84382807, 3.32650945],\n",
       "        [0.61121486, 2.51245978],\n",
       "        [3.81653365, 1.65175932],\n",
       "        [1.28097244, 0.62827388]]), array([0, 0, 0, 1, 1]))"
      ]
     },
     "execution_count": 24,
     "metadata": {},
     "output_type": "execute_result"
    }
   ],
   "source": [
    "X, y = make_blobs(n_samples=1000, centers=2, random_state=0)\n",
    "X[:5], y[:5]"
   ]
  },
  {
   "cell_type": "code",
   "execution_count": 25,
   "metadata": {
    "ExecuteTime": {
     "end_time": "2019-02-19T20:53:11.216719Z",
     "start_time": "2019-02-19T20:53:10.998613Z"
    },
    "scrolled": false
   },
   "outputs": [
    {
     "data": {
      "image/png": "[encoded data removed]",
      "text/plain": [
       "<Figure size 720x504 with 1 Axes>"
      ]
     },
     "metadata": {},
     "output_type": "display_data"
    }
   ],
   "source": [
    "fig, ax = plt.subplots()\n",
    "for label in [0, 1]:\n",
    "    mask = (y == label)\n",
    "    ax.scatter(X[mask, 0], X[mask, 1])"
   ]
  },
  {
   "cell_type": "code",
   "execution_count": 26,
   "metadata": {
    "ExecuteTime": {
     "end_time": "2019-02-19T20:53:11.281087Z",
     "start_time": "2019-02-19T20:53:11.218846Z"
    }
   },
   "outputs": [],
   "source": [
    "from sklearn.model_selection import train_test_split"
   ]
  },
  {
   "cell_type": "code",
   "execution_count": 27,
   "metadata": {
    "ExecuteTime": {
     "end_time": "2019-02-19T20:53:11.288564Z",
     "start_time": "2019-02-19T20:53:11.283819Z"
    }
   },
   "outputs": [],
   "source": [
    "X_train, X_test, y_train, y_test = train_test_split(X, y, test_size=0.2)"
   ]
  },
  {
   "cell_type": "code",
   "execution_count": 28,
   "metadata": {
    "ExecuteTime": {
     "end_time": "2019-02-19T20:53:11.500796Z",
     "start_time": "2019-02-19T20:53:11.291167Z"
    }
   },
   "outputs": [
    {
     "data": {
      "image/png": "[encoded data removed]",
      "text/plain": [
       "<Figure size 720x504 with 1 Axes>"
      ]
     },
     "metadata": {},
     "output_type": "display_data"
    }
   ],
   "source": [
    "fig, ax = plt.subplots()\n",
    "for label in [0, 1]:\n",
    "    mask = (y_train == label)\n",
    "    ax.scatter(X_train[mask, 0], X_train[mask, 1])\n",
    "for label in [0, 1]:\n",
    "    mask = (y_test == label)\n",
    "    ax.scatter(X_test[mask, 0], X_test[mask, 1])"
   ]
  },
  {
   "cell_type": "markdown",
   "metadata": {},
   "source": [
    "Sklearn uses a uniform and very consistent API, making it easy to switch algorithms"
   ]
  },
  {
   "cell_type": "markdown",
   "metadata": {},
   "source": [
    "For instance, training and predicting with a perceptron."
   ]
  },
  {
   "cell_type": "code",
   "execution_count": 29,
   "metadata": {
    "ExecuteTime": {
     "end_time": "2019-02-19T20:53:11.600376Z",
     "start_time": "2019-02-19T20:53:11.503177Z"
    }
   },
   "outputs": [],
   "source": [
    "from sklearn.linear_model import Perceptron\n",
    "from sklearn.svm import LinearSVC\n",
    "from sklearn.metrics import accuracy_score"
   ]
  },
  {
   "cell_type": "code",
   "execution_count": 30,
   "metadata": {
    "ExecuteTime": {
     "end_time": "2019-02-19T20:53:11.605547Z",
     "start_time": "2019-02-19T20:53:11.602501Z"
    }
   },
   "outputs": [],
   "source": [
    "clf = Perceptron(max_iter=40, random_state=0)\n",
    "# clf = LinearSVC(max_iter=40, random_state=0)"
   ]
  },
  {
   "cell_type": "code",
   "execution_count": 31,
   "metadata": {
    "ExecuteTime": {
     "end_time": "2019-02-19T20:53:11.618292Z",
     "start_time": "2019-02-19T20:53:11.608056Z"
    }
   },
   "outputs": [
    {
     "name": "stdout",
     "output_type": "stream",
     "text": [
      "Accuracy: 0.9300\n"
     ]
    }
   ],
   "source": [
    "clf.fit(X_train, y_train)\n",
    "y_pred = clf.predict(X_test)\n",
    "\n",
    "print('Accuracy: %.4f' % accuracy_score(y_test, y_pred))"
   ]
  },
  {
   "cell_type": "code",
   "execution_count": 32,
   "metadata": {
    "ExecuteTime": {
     "end_time": "2019-02-19T20:53:11.623170Z",
     "start_time": "2019-02-19T20:53:11.620444Z"
    }
   },
   "outputs": [],
   "source": [
    "theta = clf.coef_[0]\n",
    "theta_0 = clf.intercept_"
   ]
  },
  {
   "cell_type": "code",
   "execution_count": 33,
   "metadata": {
    "ExecuteTime": {
     "end_time": "2019-02-19T20:53:11.863224Z",
     "start_time": "2019-02-19T20:53:11.625538Z"
    }
   },
   "outputs": [
    {
     "data": {
      "text/plain": [
       "[<matplotlib.lines.Line2D at 0x114e002e8>]"
      ]
     },
     "execution_count": 33,
     "metadata": {},
     "output_type": "execute_result"
    },
    {
     "data": {
      "image/png": "[encoded data removed]",
      "text/plain": [
       "<Figure size 720x504 with 1 Axes>"
      ]
     },
     "metadata": {},
     "output_type": "display_data"
    }
   ],
   "source": [
    "fig, ax = plt.subplots()\n",
    "for label in [0, 1]:\n",
    "    mask = (y_train == label)\n",
    "    ax.scatter(X_train[mask, 0], X_train[mask, 1])\n",
    "for label in [0, 1]:\n",
    "    mask = (y_test == label)\n",
    "    ax.scatter(X_test[mask, 0], X_test[mask, 1])\n",
    "x_bnd = np.linspace(X[:, 0].min() - 1, X[:, 0].max() + 1,  400)\n",
    "y_bnd = - x_bnd * (theta[0] /theta[1]) - (theta_0 / theta[1])\n",
    "ax.plot(x_bnd, y_bnd)"
   ]
  },
  {
   "cell_type": "markdown",
   "metadata": {},
   "source": [
    "### Classify digits"
   ]
  },
  {
   "cell_type": "code",
   "execution_count": 34,
   "metadata": {
    "ExecuteTime": {
     "end_time": "2019-02-19T20:53:11.869660Z",
     "start_time": "2019-02-19T20:53:11.865975Z"
    }
   },
   "outputs": [],
   "source": [
    "# from sklearn.datasets import load_breast_cancer\n",
    "# breast_cancer = load_breast_cancer()\n",
    "# X, y = breast_cancer.data, breast_cancer.target\n",
    "# X_train, X_test, y_train, y_test = train_test_split(X, y, test_size=0.2, random_state=0)"
   ]
  },
  {
   "cell_type": "code",
   "execution_count": 35,
   "metadata": {
    "ExecuteTime": {
     "end_time": "2019-02-19T20:53:11.876102Z",
     "start_time": "2019-02-19T20:53:11.871985Z"
    }
   },
   "outputs": [
    {
     "ename": "SyntaxError",
     "evalue": "invalid syntax (<ipython-input-35-66f75137e03c>, line 1)",
     "output_type": "error",
     "traceback": [
      "\u001b[0;36m  File \u001b[0;32m\"<ipython-input-35-66f75137e03c>\"\u001b[0;36m, line \u001b[0;32m1\u001b[0m\n\u001b[0;31m    From sklearn.datasets import load_digits\u001b[0m\n\u001b[0m               ^\u001b[0m\n\u001b[0;31mSyntaxError\u001b[0m\u001b[0;31m:\u001b[0m invalid syntax\n"
     ]
    }
   ],
   "source": [
    "From sklearn.datasets import load_digits"
   ]
  },
  {
   "cell_type": "code",
   "execution_count": null,
   "metadata": {
    "ExecuteTime": {
     "end_time": "2019-02-19T20:53:11.877086Z",
     "start_time": "2019-02-19T20:53:08.980Z"
    }
   },
   "outputs": [],
   "source": [
    "digits = load_digits()\n",
    "X, y = digits.data, digits.target\n",
    "X_train, X_test, y_train, y_test = train_test_split(X, y, test_size=0.2, random_state=0)"
   ]
  },
  {
   "cell_type": "code",
   "execution_count": null,
   "metadata": {
    "ExecuteTime": {
     "end_time": "2019-02-19T20:53:11.878348Z",
     "start_time": "2019-02-19T20:53:08.982Z"
    }
   },
   "outputs": [],
   "source": [
    "fig, ax = plt.subplots()\n",
    "ax.matshow(digits.images[0])"
   ]
  },
  {
   "cell_type": "code",
   "execution_count": null,
   "metadata": {
    "ExecuteTime": {
     "end_time": "2019-02-19T20:53:11.879612Z",
     "start_time": "2019-02-19T20:53:08.984Z"
    }
   },
   "outputs": [],
   "source": [
    "X_train.shape"
   ]
  },
  {
   "cell_type": "code",
   "execution_count": null,
   "metadata": {
    "ExecuteTime": {
     "end_time": "2019-02-19T20:53:11.880593Z",
     "start_time": "2019-02-19T20:53:08.986Z"
    }
   },
   "outputs": [],
   "source": [
    "clf = Perceptron(max_iter=40, random_state=0)"
   ]
  },
  {
   "cell_type": "code",
   "execution_count": null,
   "metadata": {
    "ExecuteTime": {
     "end_time": "2019-02-19T20:53:11.881545Z",
     "start_time": "2019-02-19T20:53:08.988Z"
    }
   },
   "outputs": [],
   "source": [
    "clf.fit(X_train, y_train)\n",
    "y_pred = clf.predict(X_test)\n",
    "print('Accuracy: %.4f' % accuracy_score(y_test, y_pred))"
   ]
  },
  {
   "cell_type": "code",
   "execution_count": null,
   "metadata": {
    "ExecuteTime": {
     "end_time": "2019-02-19T20:53:11.882427Z",
     "start_time": "2019-02-19T20:53:08.989Z"
    }
   },
   "outputs": [],
   "source": [
    "clf = LinearSVC(C=1, random_state=0)"
   ]
  },
  {
   "cell_type": "code",
   "execution_count": null,
   "metadata": {
    "ExecuteTime": {
     "end_time": "2019-02-19T20:53:11.883338Z",
     "start_time": "2019-02-19T20:53:08.991Z"
    }
   },
   "outputs": [],
   "source": [
    "clf.fit(X_train, y_train)\n",
    "y_pred = clf.predict(X_test)\n",
    "print('Accuracy: %.4f' % accuracy_score(y_test, y_pred))"
   ]
  },
  {
   "cell_type": "code",
   "execution_count": null,
   "metadata": {
    "ExecuteTime": {
     "end_time": "2019-02-19T20:53:11.884831Z",
     "start_time": "2019-02-19T20:53:08.993Z"
    }
   },
   "outputs": [],
   "source": [
    "from sklearn.metrics import confusion_matrix"
   ]
  },
  {
   "cell_type": "code",
   "execution_count": null,
   "metadata": {
    "ExecuteTime": {
     "end_time": "2019-02-19T20:53:11.886246Z",
     "start_time": "2019-02-19T20:53:08.995Z"
    }
   },
   "outputs": [],
   "source": [
    "confusion_matrix(y_test, clf.predict(X_test))"
   ]
  },
  {
   "cell_type": "markdown",
   "metadata": {},
   "source": [
    "Scikit-learn also includes utilities to quickly compute a cross validation score..."
   ]
  },
  {
   "cell_type": "code",
   "execution_count": null,
   "metadata": {
    "ExecuteTime": {
     "end_time": "2019-02-19T20:53:11.887209Z",
     "start_time": "2019-02-19T20:53:08.998Z"
    }
   },
   "outputs": [],
   "source": [
    "clf = LinearSVC(C=1, random_state=0)\n",
    "from sklearn.model_selection import cross_val_score\n",
    "scores =  cross_val_score(clf, X_train, y_train, cv=5)\n",
    "print(\"Mean: %.4f, Std: %.4f\" % (np.mean(scores), np.std(scores)))"
   ]
  },
  {
   "cell_type": "code",
   "execution_count": null,
   "metadata": {
    "ExecuteTime": {
     "end_time": "2019-02-19T20:53:11.888844Z",
     "start_time": "2019-02-19T20:53:09.000Z"
    }
   },
   "outputs": [],
   "source": [
    "clf = LinearSVC(C=0.1, random_state=0)\n",
    "scores =  cross_val_score(clf, X_train, y_train, cv=5)\n",
    "print(\"Mean: %.4f, Std: %.4f\" % (np.mean(scores), np.std(scores)))"
   ]
  },
  {
   "cell_type": "markdown",
   "metadata": {},
   "source": [
    "... or to perform a grid search"
   ]
  },
  {
   "cell_type": "code",
   "execution_count": null,
   "metadata": {
    "ExecuteTime": {
     "end_time": "2019-02-19T20:53:11.890550Z",
     "start_time": "2019-02-19T20:53:09.002Z"
    }
   },
   "outputs": [],
   "source": [
    "from sklearn.model_selection import GridSearchCV"
   ]
  },
  {
   "cell_type": "code",
   "execution_count": null,
   "metadata": {
    "ExecuteTime": {
     "end_time": "2019-02-19T20:53:11.891568Z",
     "start_time": "2019-02-19T20:53:09.003Z"
    }
   },
   "outputs": [],
   "source": [
    "clf = LinearSVC(random_state=0)\n",
    "param_grid = {'C': 10. ** np.arange(-6, 4)}\n",
    "grid_search = GridSearchCV(clf, param_grid=param_grid, cv=5, verbose=3, return_train_score=True)"
   ]
  },
  {
   "cell_type": "code",
   "execution_count": null,
   "metadata": {
    "ExecuteTime": {
     "end_time": "2019-02-19T20:53:11.892892Z",
     "start_time": "2019-02-19T20:53:09.005Z"
    }
   },
   "outputs": [],
   "source": [
    "grid_search.fit(X_train, y_train);"
   ]
  },
  {
   "cell_type": "code",
   "execution_count": null,
   "metadata": {
    "ExecuteTime": {
     "end_time": "2019-02-19T20:53:11.894325Z",
     "start_time": "2019-02-19T20:53:09.007Z"
    }
   },
   "outputs": [],
   "source": [
    "print(grid_search.best_params_)"
   ]
  },
  {
   "cell_type": "code",
   "execution_count": null,
   "metadata": {
    "ExecuteTime": {
     "end_time": "2019-02-19T20:53:11.896109Z",
     "start_time": "2019-02-19T20:53:09.009Z"
    }
   },
   "outputs": [],
   "source": [
    "print(grid_search.best_score_)"
   ]
  },
  {
   "cell_type": "code",
   "execution_count": null,
   "metadata": {
    "ExecuteTime": {
     "end_time": "2019-02-19T20:53:11.897118Z",
     "start_time": "2019-02-19T20:53:09.011Z"
    }
   },
   "outputs": [],
   "source": [
    "y_pred = grid_search.predict(X_test)\n",
    "print('Accuracy: %.4f' % accuracy_score(y_test, y_pred))"
   ]
  },
  {
   "cell_type": "markdown",
   "metadata": {},
   "source": [
    "And a lot more features!"
   ]
  },
  {
   "cell_type": "markdown",
   "metadata": {},
   "source": [
    "## Pandas"
   ]
  },
  {
   "cell_type": "code",
   "execution_count": null,
   "metadata": {
    "ExecuteTime": {
     "end_time": "2019-02-19T20:53:11.898798Z",
     "start_time": "2019-02-19T20:53:09.012Z"
    }
   },
   "outputs": [],
   "source": [
    "import pandas as pd"
   ]
  },
  {
   "cell_type": "markdown",
   "metadata": {},
   "source": [
    "Pandas is a library that provides a set of tools for data analysis (Python Data Analysis Library). "
   ]
  },
  {
   "cell_type": "markdown",
   "metadata": {},
   "source": [
    "Pandas dataframes can be created by importing a CSV file (or TSV, or JSON, or SQL, etc.)"
   ]
  },
  {
   "cell_type": "code",
   "execution_count": null,
   "metadata": {
    "ExecuteTime": {
     "end_time": "2019-02-19T20:53:11.899997Z",
     "start_time": "2019-02-19T20:53:09.014Z"
    }
   },
   "outputs": [],
   "source": [
    "# df = pd.read_csv(\"file.csv\")"
   ]
  },
  {
   "cell_type": "markdown",
   "metadata": {},
   "source": [
    "Pandas dataframes can also be created directly from a dictionary of arrays."
   ]
  },
  {
   "cell_type": "code",
   "execution_count": null,
   "metadata": {
    "ExecuteTime": {
     "end_time": "2019-02-19T20:53:11.901124Z",
     "start_time": "2019-02-19T20:53:09.016Z"
    }
   },
   "outputs": [],
   "source": [
    "print(grid_search.cv_results_)"
   ]
  },
  {
   "cell_type": "code",
   "execution_count": null,
   "metadata": {
    "ExecuteTime": {
     "end_time": "2019-02-19T20:53:11.902131Z",
     "start_time": "2019-02-19T20:53:09.020Z"
    }
   },
   "outputs": [],
   "source": [
    "df = pd.DataFrame(grid_search.cv_results_)\n",
    "df"
   ]
  },
  {
   "cell_type": "markdown",
   "metadata": {},
   "source": [
    "Pandas columns are also Numpy arrays, so they obey to the same indexing magic"
   ]
  },
  {
   "cell_type": "code",
   "execution_count": null,
   "metadata": {
    "ExecuteTime": {
     "end_time": "2019-02-19T20:53:11.902951Z",
     "start_time": "2019-02-19T20:53:09.022Z"
    }
   },
   "outputs": [],
   "source": [
    "df[df['param_C'] < 0.01]"
   ]
  },
  {
   "cell_type": "markdown",
   "metadata": {},
   "source": [
    "They also provide most functionality you would expect as database user (`df.sort_values`, `df.groupby`, `df.join`, `df.concat`, etc.)"
   ]
  },
  {
   "cell_type": "code",
   "execution_count": null,
   "metadata": {
    "ExecuteTime": {
     "end_time": "2019-02-19T20:53:11.904084Z",
     "start_time": "2019-02-19T20:53:09.024Z"
    },
    "scrolled": false
   },
   "outputs": [],
   "source": [
    "fig, ax = plt.subplots()\n",
    "ax.plot(df['mean_test_score'], label=\"validation error\")\n",
    "ax.plot(df['mean_train_score'], label=\"training error\")\n",
    "ax.set_xticklabels(df['param_C'])\n",
    "ax.set_xlabel(\"C\")\n",
    "ax.set_ylabel(\"Accuracy\")\n",
    "ax.legend(loc='best');"
   ]
  },
  {
   "cell_type": "markdown",
   "metadata": {
    "ExecuteTime": {
     "end_time": "2019-02-19T20:36:16.683621Z",
     "start_time": "2019-02-19T20:36:16.679694Z"
    }
   },
   "source": [
    "## Other packages "
   ]
  },
  {
   "cell_type": "markdown",
   "metadata": {},
   "source": [
    "Other packages that didn't make the cut:\n",
    "- Plotly and Seaborn: two other plotting libraries\n",
    "- Scipy: a science library built on top of Numpy\n",
    "- Scrapy: a web crawling library\n",
    "- pdb: a debugger for python (not ML-specific but terribly useful)\n",
    "- tqdm: a progress bar (not ML-specific)\n",
    "\n",
    "Next time:\n",
    "- Pytorch"
   ]
  }
 ],
 "metadata": {
  "kernelspec": {
   "display_name": "Python 3",
   "language": "python",
   "name": "python3"
  },
  "language_info": {
   "codemirror_mode": {
    "name": "ipython",
    "version": 3
   },
   "file_extension": ".py",
   "mimetype": "text/x-python",
   "name": "python",
   "nbconvert_exporter": "python",
   "pygments_lexer": "ipython3",
   "version": "3.6.5"
  },
  "toc": {
   "base_numbering": 1,
   "nav_menu": {},
   "number_sections": true,
   "sideBar": true,
   "skip_h1_title": false,
   "title_cell": "Table of Contents",
   "title_sidebar": "Contents",
   "toc_cell": false,
   "toc_position": {
    "height": "calc(100% - 180px)",
    "left": "10px",
    "top": "150px",
    "width": "164px"
   },
   "toc_section_display": true,
   "toc_window_display": true
  }
 },
 "nbformat": 4,
 "nbformat_minor": 2
}
